{
  "nbformat": 4,
  "nbformat_minor": 0,
  "metadata": {
    "colab": {
      "provenance": []
    },
    "kernelspec": {
      "name": "python3",
      "display_name": "Python 3"
    },
    "language_info": {
      "name": "python"
    },
    "widgets": {
      "application/vnd.jupyter.widget-state+json": {
        "e86a663d8e8f41d783af441928a4a9fb": {
          "model_module": "@jupyter-widgets/controls",
          "model_name": "HBoxModel",
          "model_module_version": "1.5.0",
          "state": {
            "_dom_classes": [],
            "_model_module": "@jupyter-widgets/controls",
            "_model_module_version": "1.5.0",
            "_model_name": "HBoxModel",
            "_view_count": null,
            "_view_module": "@jupyter-widgets/controls",
            "_view_module_version": "1.5.0",
            "_view_name": "HBoxView",
            "box_style": "",
            "children": [
              "IPY_MODEL_6bbdba4614dc4dccad29c0e65b5abdb5",
              "IPY_MODEL_e28fb61009ec4aeeac34c0360ec4e591",
              "IPY_MODEL_e468a914a6eb4f91abfb970a45c7f691"
            ],
            "layout": "IPY_MODEL_0ac1ee48fa64423ba5f8e61a6f2cb432"
          }
        },
        "6bbdba4614dc4dccad29c0e65b5abdb5": {
          "model_module": "@jupyter-widgets/controls",
          "model_name": "HTMLModel",
          "model_module_version": "1.5.0",
          "state": {
            "_dom_classes": [],
            "_model_module": "@jupyter-widgets/controls",
            "_model_module_version": "1.5.0",
            "_model_name": "HTMLModel",
            "_view_count": null,
            "_view_module": "@jupyter-widgets/controls",
            "_view_module_version": "1.5.0",
            "_view_name": "HTMLView",
            "description": "",
            "description_tooltip": null,
            "layout": "IPY_MODEL_10517450b2dc47f6b129fcc7d791690d",
            "placeholder": "​",
            "style": "IPY_MODEL_abb2a667cd424321b1c8f854b8eb1052",
            "value": "100%"
          }
        },
        "e28fb61009ec4aeeac34c0360ec4e591": {
          "model_module": "@jupyter-widgets/controls",
          "model_name": "FloatProgressModel",
          "model_module_version": "1.5.0",
          "state": {
            "_dom_classes": [],
            "_model_module": "@jupyter-widgets/controls",
            "_model_module_version": "1.5.0",
            "_model_name": "FloatProgressModel",
            "_view_count": null,
            "_view_module": "@jupyter-widgets/controls",
            "_view_module_version": "1.5.0",
            "_view_name": "ProgressView",
            "bar_style": "success",
            "description": "",
            "description_tooltip": null,
            "layout": "IPY_MODEL_534e83034b6a4c6a9fa907c5b4f6561e",
            "max": 9912422,
            "min": 0,
            "orientation": "horizontal",
            "style": "IPY_MODEL_f1f534a30c144ab79295805b58ce4d8d",
            "value": 9912422
          }
        },
        "e468a914a6eb4f91abfb970a45c7f691": {
          "model_module": "@jupyter-widgets/controls",
          "model_name": "HTMLModel",
          "model_module_version": "1.5.0",
          "state": {
            "_dom_classes": [],
            "_model_module": "@jupyter-widgets/controls",
            "_model_module_version": "1.5.0",
            "_model_name": "HTMLModel",
            "_view_count": null,
            "_view_module": "@jupyter-widgets/controls",
            "_view_module_version": "1.5.0",
            "_view_name": "HTMLView",
            "description": "",
            "description_tooltip": null,
            "layout": "IPY_MODEL_7398ffb922ea48d1b60c4aa86c595203",
            "placeholder": "​",
            "style": "IPY_MODEL_6602eac1b41344668e2e580f3e2bc6e8",
            "value": " 9912422/9912422 [00:00&lt;00:00, 19814142.43it/s]"
          }
        },
        "0ac1ee48fa64423ba5f8e61a6f2cb432": {
          "model_module": "@jupyter-widgets/base",
          "model_name": "LayoutModel",
          "model_module_version": "1.2.0",
          "state": {
            "_model_module": "@jupyter-widgets/base",
            "_model_module_version": "1.2.0",
            "_model_name": "LayoutModel",
            "_view_count": null,
            "_view_module": "@jupyter-widgets/base",
            "_view_module_version": "1.2.0",
            "_view_name": "LayoutView",
            "align_content": null,
            "align_items": null,
            "align_self": null,
            "border": null,
            "bottom": null,
            "display": null,
            "flex": null,
            "flex_flow": null,
            "grid_area": null,
            "grid_auto_columns": null,
            "grid_auto_flow": null,
            "grid_auto_rows": null,
            "grid_column": null,
            "grid_gap": null,
            "grid_row": null,
            "grid_template_areas": null,
            "grid_template_columns": null,
            "grid_template_rows": null,
            "height": null,
            "justify_content": null,
            "justify_items": null,
            "left": null,
            "margin": null,
            "max_height": null,
            "max_width": null,
            "min_height": null,
            "min_width": null,
            "object_fit": null,
            "object_position": null,
            "order": null,
            "overflow": null,
            "overflow_x": null,
            "overflow_y": null,
            "padding": null,
            "right": null,
            "top": null,
            "visibility": null,
            "width": null
          }
        },
        "10517450b2dc47f6b129fcc7d791690d": {
          "model_module": "@jupyter-widgets/base",
          "model_name": "LayoutModel",
          "model_module_version": "1.2.0",
          "state": {
            "_model_module": "@jupyter-widgets/base",
            "_model_module_version": "1.2.0",
            "_model_name": "LayoutModel",
            "_view_count": null,
            "_view_module": "@jupyter-widgets/base",
            "_view_module_version": "1.2.0",
            "_view_name": "LayoutView",
            "align_content": null,
            "align_items": null,
            "align_self": null,
            "border": null,
            "bottom": null,
            "display": null,
            "flex": null,
            "flex_flow": null,
            "grid_area": null,
            "grid_auto_columns": null,
            "grid_auto_flow": null,
            "grid_auto_rows": null,
            "grid_column": null,
            "grid_gap": null,
            "grid_row": null,
            "grid_template_areas": null,
            "grid_template_columns": null,
            "grid_template_rows": null,
            "height": null,
            "justify_content": null,
            "justify_items": null,
            "left": null,
            "margin": null,
            "max_height": null,
            "max_width": null,
            "min_height": null,
            "min_width": null,
            "object_fit": null,
            "object_position": null,
            "order": null,
            "overflow": null,
            "overflow_x": null,
            "overflow_y": null,
            "padding": null,
            "right": null,
            "top": null,
            "visibility": null,
            "width": null
          }
        },
        "abb2a667cd424321b1c8f854b8eb1052": {
          "model_module": "@jupyter-widgets/controls",
          "model_name": "DescriptionStyleModel",
          "model_module_version": "1.5.0",
          "state": {
            "_model_module": "@jupyter-widgets/controls",
            "_model_module_version": "1.5.0",
            "_model_name": "DescriptionStyleModel",
            "_view_count": null,
            "_view_module": "@jupyter-widgets/base",
            "_view_module_version": "1.2.0",
            "_view_name": "StyleView",
            "description_width": ""
          }
        },
        "534e83034b6a4c6a9fa907c5b4f6561e": {
          "model_module": "@jupyter-widgets/base",
          "model_name": "LayoutModel",
          "model_module_version": "1.2.0",
          "state": {
            "_model_module": "@jupyter-widgets/base",
            "_model_module_version": "1.2.0",
            "_model_name": "LayoutModel",
            "_view_count": null,
            "_view_module": "@jupyter-widgets/base",
            "_view_module_version": "1.2.0",
            "_view_name": "LayoutView",
            "align_content": null,
            "align_items": null,
            "align_self": null,
            "border": null,
            "bottom": null,
            "display": null,
            "flex": null,
            "flex_flow": null,
            "grid_area": null,
            "grid_auto_columns": null,
            "grid_auto_flow": null,
            "grid_auto_rows": null,
            "grid_column": null,
            "grid_gap": null,
            "grid_row": null,
            "grid_template_areas": null,
            "grid_template_columns": null,
            "grid_template_rows": null,
            "height": null,
            "justify_content": null,
            "justify_items": null,
            "left": null,
            "margin": null,
            "max_height": null,
            "max_width": null,
            "min_height": null,
            "min_width": null,
            "object_fit": null,
            "object_position": null,
            "order": null,
            "overflow": null,
            "overflow_x": null,
            "overflow_y": null,
            "padding": null,
            "right": null,
            "top": null,
            "visibility": null,
            "width": null
          }
        },
        "f1f534a30c144ab79295805b58ce4d8d": {
          "model_module": "@jupyter-widgets/controls",
          "model_name": "ProgressStyleModel",
          "model_module_version": "1.5.0",
          "state": {
            "_model_module": "@jupyter-widgets/controls",
            "_model_module_version": "1.5.0",
            "_model_name": "ProgressStyleModel",
            "_view_count": null,
            "_view_module": "@jupyter-widgets/base",
            "_view_module_version": "1.2.0",
            "_view_name": "StyleView",
            "bar_color": null,
            "description_width": ""
          }
        },
        "7398ffb922ea48d1b60c4aa86c595203": {
          "model_module": "@jupyter-widgets/base",
          "model_name": "LayoutModel",
          "model_module_version": "1.2.0",
          "state": {
            "_model_module": "@jupyter-widgets/base",
            "_model_module_version": "1.2.0",
            "_model_name": "LayoutModel",
            "_view_count": null,
            "_view_module": "@jupyter-widgets/base",
            "_view_module_version": "1.2.0",
            "_view_name": "LayoutView",
            "align_content": null,
            "align_items": null,
            "align_self": null,
            "border": null,
            "bottom": null,
            "display": null,
            "flex": null,
            "flex_flow": null,
            "grid_area": null,
            "grid_auto_columns": null,
            "grid_auto_flow": null,
            "grid_auto_rows": null,
            "grid_column": null,
            "grid_gap": null,
            "grid_row": null,
            "grid_template_areas": null,
            "grid_template_columns": null,
            "grid_template_rows": null,
            "height": null,
            "justify_content": null,
            "justify_items": null,
            "left": null,
            "margin": null,
            "max_height": null,
            "max_width": null,
            "min_height": null,
            "min_width": null,
            "object_fit": null,
            "object_position": null,
            "order": null,
            "overflow": null,
            "overflow_x": null,
            "overflow_y": null,
            "padding": null,
            "right": null,
            "top": null,
            "visibility": null,
            "width": null
          }
        },
        "6602eac1b41344668e2e580f3e2bc6e8": {
          "model_module": "@jupyter-widgets/controls",
          "model_name": "DescriptionStyleModel",
          "model_module_version": "1.5.0",
          "state": {
            "_model_module": "@jupyter-widgets/controls",
            "_model_module_version": "1.5.0",
            "_model_name": "DescriptionStyleModel",
            "_view_count": null,
            "_view_module": "@jupyter-widgets/base",
            "_view_module_version": "1.2.0",
            "_view_name": "StyleView",
            "description_width": ""
          }
        },
        "4b2d8d1cc0b946c0af2a1dd6c5e30b4d": {
          "model_module": "@jupyter-widgets/controls",
          "model_name": "HBoxModel",
          "model_module_version": "1.5.0",
          "state": {
            "_dom_classes": [],
            "_model_module": "@jupyter-widgets/controls",
            "_model_module_version": "1.5.0",
            "_model_name": "HBoxModel",
            "_view_count": null,
            "_view_module": "@jupyter-widgets/controls",
            "_view_module_version": "1.5.0",
            "_view_name": "HBoxView",
            "box_style": "",
            "children": [
              "IPY_MODEL_45afb681066d4960b8c333217654fe3f",
              "IPY_MODEL_31eabba5ccfb4c18977f4e2019d024f5",
              "IPY_MODEL_72c119472d364346aeba4e1f556e07a5"
            ],
            "layout": "IPY_MODEL_eb7a06d7acac4f45bdd64c30083fc0f2"
          }
        },
        "45afb681066d4960b8c333217654fe3f": {
          "model_module": "@jupyter-widgets/controls",
          "model_name": "HTMLModel",
          "model_module_version": "1.5.0",
          "state": {
            "_dom_classes": [],
            "_model_module": "@jupyter-widgets/controls",
            "_model_module_version": "1.5.0",
            "_model_name": "HTMLModel",
            "_view_count": null,
            "_view_module": "@jupyter-widgets/controls",
            "_view_module_version": "1.5.0",
            "_view_name": "HTMLView",
            "description": "",
            "description_tooltip": null,
            "layout": "IPY_MODEL_b95387369faf433a863e345b3c53c7b7",
            "placeholder": "​",
            "style": "IPY_MODEL_ac80b66552c242e6b2de3fa4f71407da",
            "value": "100%"
          }
        },
        "31eabba5ccfb4c18977f4e2019d024f5": {
          "model_module": "@jupyter-widgets/controls",
          "model_name": "FloatProgressModel",
          "model_module_version": "1.5.0",
          "state": {
            "_dom_classes": [],
            "_model_module": "@jupyter-widgets/controls",
            "_model_module_version": "1.5.0",
            "_model_name": "FloatProgressModel",
            "_view_count": null,
            "_view_module": "@jupyter-widgets/controls",
            "_view_module_version": "1.5.0",
            "_view_name": "ProgressView",
            "bar_style": "success",
            "description": "",
            "description_tooltip": null,
            "layout": "IPY_MODEL_d6039bb2682c4fc896fd01fce4bde04b",
            "max": 28881,
            "min": 0,
            "orientation": "horizontal",
            "style": "IPY_MODEL_e0a5769e6e774de9861bfef1e7a46d9a",
            "value": 28881
          }
        },
        "72c119472d364346aeba4e1f556e07a5": {
          "model_module": "@jupyter-widgets/controls",
          "model_name": "HTMLModel",
          "model_module_version": "1.5.0",
          "state": {
            "_dom_classes": [],
            "_model_module": "@jupyter-widgets/controls",
            "_model_module_version": "1.5.0",
            "_model_name": "HTMLModel",
            "_view_count": null,
            "_view_module": "@jupyter-widgets/controls",
            "_view_module_version": "1.5.0",
            "_view_name": "HTMLView",
            "description": "",
            "description_tooltip": null,
            "layout": "IPY_MODEL_04965c2a22bf4ee4949a75ec2a29cff2",
            "placeholder": "​",
            "style": "IPY_MODEL_d2382703efa84511ace53c05b89923f1",
            "value": " 28881/28881 [00:00&lt;00:00, 781324.01it/s]"
          }
        },
        "eb7a06d7acac4f45bdd64c30083fc0f2": {
          "model_module": "@jupyter-widgets/base",
          "model_name": "LayoutModel",
          "model_module_version": "1.2.0",
          "state": {
            "_model_module": "@jupyter-widgets/base",
            "_model_module_version": "1.2.0",
            "_model_name": "LayoutModel",
            "_view_count": null,
            "_view_module": "@jupyter-widgets/base",
            "_view_module_version": "1.2.0",
            "_view_name": "LayoutView",
            "align_content": null,
            "align_items": null,
            "align_self": null,
            "border": null,
            "bottom": null,
            "display": null,
            "flex": null,
            "flex_flow": null,
            "grid_area": null,
            "grid_auto_columns": null,
            "grid_auto_flow": null,
            "grid_auto_rows": null,
            "grid_column": null,
            "grid_gap": null,
            "grid_row": null,
            "grid_template_areas": null,
            "grid_template_columns": null,
            "grid_template_rows": null,
            "height": null,
            "justify_content": null,
            "justify_items": null,
            "left": null,
            "margin": null,
            "max_height": null,
            "max_width": null,
            "min_height": null,
            "min_width": null,
            "object_fit": null,
            "object_position": null,
            "order": null,
            "overflow": null,
            "overflow_x": null,
            "overflow_y": null,
            "padding": null,
            "right": null,
            "top": null,
            "visibility": null,
            "width": null
          }
        },
        "b95387369faf433a863e345b3c53c7b7": {
          "model_module": "@jupyter-widgets/base",
          "model_name": "LayoutModel",
          "model_module_version": "1.2.0",
          "state": {
            "_model_module": "@jupyter-widgets/base",
            "_model_module_version": "1.2.0",
            "_model_name": "LayoutModel",
            "_view_count": null,
            "_view_module": "@jupyter-widgets/base",
            "_view_module_version": "1.2.0",
            "_view_name": "LayoutView",
            "align_content": null,
            "align_items": null,
            "align_self": null,
            "border": null,
            "bottom": null,
            "display": null,
            "flex": null,
            "flex_flow": null,
            "grid_area": null,
            "grid_auto_columns": null,
            "grid_auto_flow": null,
            "grid_auto_rows": null,
            "grid_column": null,
            "grid_gap": null,
            "grid_row": null,
            "grid_template_areas": null,
            "grid_template_columns": null,
            "grid_template_rows": null,
            "height": null,
            "justify_content": null,
            "justify_items": null,
            "left": null,
            "margin": null,
            "max_height": null,
            "max_width": null,
            "min_height": null,
            "min_width": null,
            "object_fit": null,
            "object_position": null,
            "order": null,
            "overflow": null,
            "overflow_x": null,
            "overflow_y": null,
            "padding": null,
            "right": null,
            "top": null,
            "visibility": null,
            "width": null
          }
        },
        "ac80b66552c242e6b2de3fa4f71407da": {
          "model_module": "@jupyter-widgets/controls",
          "model_name": "DescriptionStyleModel",
          "model_module_version": "1.5.0",
          "state": {
            "_model_module": "@jupyter-widgets/controls",
            "_model_module_version": "1.5.0",
            "_model_name": "DescriptionStyleModel",
            "_view_count": null,
            "_view_module": "@jupyter-widgets/base",
            "_view_module_version": "1.2.0",
            "_view_name": "StyleView",
            "description_width": ""
          }
        },
        "d6039bb2682c4fc896fd01fce4bde04b": {
          "model_module": "@jupyter-widgets/base",
          "model_name": "LayoutModel",
          "model_module_version": "1.2.0",
          "state": {
            "_model_module": "@jupyter-widgets/base",
            "_model_module_version": "1.2.0",
            "_model_name": "LayoutModel",
            "_view_count": null,
            "_view_module": "@jupyter-widgets/base",
            "_view_module_version": "1.2.0",
            "_view_name": "LayoutView",
            "align_content": null,
            "align_items": null,
            "align_self": null,
            "border": null,
            "bottom": null,
            "display": null,
            "flex": null,
            "flex_flow": null,
            "grid_area": null,
            "grid_auto_columns": null,
            "grid_auto_flow": null,
            "grid_auto_rows": null,
            "grid_column": null,
            "grid_gap": null,
            "grid_row": null,
            "grid_template_areas": null,
            "grid_template_columns": null,
            "grid_template_rows": null,
            "height": null,
            "justify_content": null,
            "justify_items": null,
            "left": null,
            "margin": null,
            "max_height": null,
            "max_width": null,
            "min_height": null,
            "min_width": null,
            "object_fit": null,
            "object_position": null,
            "order": null,
            "overflow": null,
            "overflow_x": null,
            "overflow_y": null,
            "padding": null,
            "right": null,
            "top": null,
            "visibility": null,
            "width": null
          }
        },
        "e0a5769e6e774de9861bfef1e7a46d9a": {
          "model_module": "@jupyter-widgets/controls",
          "model_name": "ProgressStyleModel",
          "model_module_version": "1.5.0",
          "state": {
            "_model_module": "@jupyter-widgets/controls",
            "_model_module_version": "1.5.0",
            "_model_name": "ProgressStyleModel",
            "_view_count": null,
            "_view_module": "@jupyter-widgets/base",
            "_view_module_version": "1.2.0",
            "_view_name": "StyleView",
            "bar_color": null,
            "description_width": ""
          }
        },
        "04965c2a22bf4ee4949a75ec2a29cff2": {
          "model_module": "@jupyter-widgets/base",
          "model_name": "LayoutModel",
          "model_module_version": "1.2.0",
          "state": {
            "_model_module": "@jupyter-widgets/base",
            "_model_module_version": "1.2.0",
            "_model_name": "LayoutModel",
            "_view_count": null,
            "_view_module": "@jupyter-widgets/base",
            "_view_module_version": "1.2.0",
            "_view_name": "LayoutView",
            "align_content": null,
            "align_items": null,
            "align_self": null,
            "border": null,
            "bottom": null,
            "display": null,
            "flex": null,
            "flex_flow": null,
            "grid_area": null,
            "grid_auto_columns": null,
            "grid_auto_flow": null,
            "grid_auto_rows": null,
            "grid_column": null,
            "grid_gap": null,
            "grid_row": null,
            "grid_template_areas": null,
            "grid_template_columns": null,
            "grid_template_rows": null,
            "height": null,
            "justify_content": null,
            "justify_items": null,
            "left": null,
            "margin": null,
            "max_height": null,
            "max_width": null,
            "min_height": null,
            "min_width": null,
            "object_fit": null,
            "object_position": null,
            "order": null,
            "overflow": null,
            "overflow_x": null,
            "overflow_y": null,
            "padding": null,
            "right": null,
            "top": null,
            "visibility": null,
            "width": null
          }
        },
        "d2382703efa84511ace53c05b89923f1": {
          "model_module": "@jupyter-widgets/controls",
          "model_name": "DescriptionStyleModel",
          "model_module_version": "1.5.0",
          "state": {
            "_model_module": "@jupyter-widgets/controls",
            "_model_module_version": "1.5.0",
            "_model_name": "DescriptionStyleModel",
            "_view_count": null,
            "_view_module": "@jupyter-widgets/base",
            "_view_module_version": "1.2.0",
            "_view_name": "StyleView",
            "description_width": ""
          }
        },
        "e0ee8d04355547dda19a4cabe72606c9": {
          "model_module": "@jupyter-widgets/controls",
          "model_name": "HBoxModel",
          "model_module_version": "1.5.0",
          "state": {
            "_dom_classes": [],
            "_model_module": "@jupyter-widgets/controls",
            "_model_module_version": "1.5.0",
            "_model_name": "HBoxModel",
            "_view_count": null,
            "_view_module": "@jupyter-widgets/controls",
            "_view_module_version": "1.5.0",
            "_view_name": "HBoxView",
            "box_style": "",
            "children": [
              "IPY_MODEL_56981267d6c34d01a7a06e51bb4a8b16",
              "IPY_MODEL_a9b9f416eadc4b56abd0e6a907187828",
              "IPY_MODEL_b494f7745841442e911f920debfa273c"
            ],
            "layout": "IPY_MODEL_a7fdc8a0a91d408e8b8cce1ff0c8400f"
          }
        },
        "56981267d6c34d01a7a06e51bb4a8b16": {
          "model_module": "@jupyter-widgets/controls",
          "model_name": "HTMLModel",
          "model_module_version": "1.5.0",
          "state": {
            "_dom_classes": [],
            "_model_module": "@jupyter-widgets/controls",
            "_model_module_version": "1.5.0",
            "_model_name": "HTMLModel",
            "_view_count": null,
            "_view_module": "@jupyter-widgets/controls",
            "_view_module_version": "1.5.0",
            "_view_name": "HTMLView",
            "description": "",
            "description_tooltip": null,
            "layout": "IPY_MODEL_179b1d3d4650473694a6febd6bbdf235",
            "placeholder": "​",
            "style": "IPY_MODEL_64c99923ee0d497a9645edbdfbab9e47",
            "value": "100%"
          }
        },
        "a9b9f416eadc4b56abd0e6a907187828": {
          "model_module": "@jupyter-widgets/controls",
          "model_name": "FloatProgressModel",
          "model_module_version": "1.5.0",
          "state": {
            "_dom_classes": [],
            "_model_module": "@jupyter-widgets/controls",
            "_model_module_version": "1.5.0",
            "_model_name": "FloatProgressModel",
            "_view_count": null,
            "_view_module": "@jupyter-widgets/controls",
            "_view_module_version": "1.5.0",
            "_view_name": "ProgressView",
            "bar_style": "success",
            "description": "",
            "description_tooltip": null,
            "layout": "IPY_MODEL_d3621c23733c42208ff2132214b57630",
            "max": 1648877,
            "min": 0,
            "orientation": "horizontal",
            "style": "IPY_MODEL_6b4036bd0b674cd9a4d7b4cb0ba7be8e",
            "value": 1648877
          }
        },
        "b494f7745841442e911f920debfa273c": {
          "model_module": "@jupyter-widgets/controls",
          "model_name": "HTMLModel",
          "model_module_version": "1.5.0",
          "state": {
            "_dom_classes": [],
            "_model_module": "@jupyter-widgets/controls",
            "_model_module_version": "1.5.0",
            "_model_name": "HTMLModel",
            "_view_count": null,
            "_view_module": "@jupyter-widgets/controls",
            "_view_module_version": "1.5.0",
            "_view_name": "HTMLView",
            "description": "",
            "description_tooltip": null,
            "layout": "IPY_MODEL_9e85981ef7cc4b3b85f3f23b7cf7089d",
            "placeholder": "​",
            "style": "IPY_MODEL_c0a33df9ffe24357aa3acecaf70398bc",
            "value": " 1648877/1648877 [00:00&lt;00:00, 6536707.94it/s]"
          }
        },
        "a7fdc8a0a91d408e8b8cce1ff0c8400f": {
          "model_module": "@jupyter-widgets/base",
          "model_name": "LayoutModel",
          "model_module_version": "1.2.0",
          "state": {
            "_model_module": "@jupyter-widgets/base",
            "_model_module_version": "1.2.0",
            "_model_name": "LayoutModel",
            "_view_count": null,
            "_view_module": "@jupyter-widgets/base",
            "_view_module_version": "1.2.0",
            "_view_name": "LayoutView",
            "align_content": null,
            "align_items": null,
            "align_self": null,
            "border": null,
            "bottom": null,
            "display": null,
            "flex": null,
            "flex_flow": null,
            "grid_area": null,
            "grid_auto_columns": null,
            "grid_auto_flow": null,
            "grid_auto_rows": null,
            "grid_column": null,
            "grid_gap": null,
            "grid_row": null,
            "grid_template_areas": null,
            "grid_template_columns": null,
            "grid_template_rows": null,
            "height": null,
            "justify_content": null,
            "justify_items": null,
            "left": null,
            "margin": null,
            "max_height": null,
            "max_width": null,
            "min_height": null,
            "min_width": null,
            "object_fit": null,
            "object_position": null,
            "order": null,
            "overflow": null,
            "overflow_x": null,
            "overflow_y": null,
            "padding": null,
            "right": null,
            "top": null,
            "visibility": null,
            "width": null
          }
        },
        "179b1d3d4650473694a6febd6bbdf235": {
          "model_module": "@jupyter-widgets/base",
          "model_name": "LayoutModel",
          "model_module_version": "1.2.0",
          "state": {
            "_model_module": "@jupyter-widgets/base",
            "_model_module_version": "1.2.0",
            "_model_name": "LayoutModel",
            "_view_count": null,
            "_view_module": "@jupyter-widgets/base",
            "_view_module_version": "1.2.0",
            "_view_name": "LayoutView",
            "align_content": null,
            "align_items": null,
            "align_self": null,
            "border": null,
            "bottom": null,
            "display": null,
            "flex": null,
            "flex_flow": null,
            "grid_area": null,
            "grid_auto_columns": null,
            "grid_auto_flow": null,
            "grid_auto_rows": null,
            "grid_column": null,
            "grid_gap": null,
            "grid_row": null,
            "grid_template_areas": null,
            "grid_template_columns": null,
            "grid_template_rows": null,
            "height": null,
            "justify_content": null,
            "justify_items": null,
            "left": null,
            "margin": null,
            "max_height": null,
            "max_width": null,
            "min_height": null,
            "min_width": null,
            "object_fit": null,
            "object_position": null,
            "order": null,
            "overflow": null,
            "overflow_x": null,
            "overflow_y": null,
            "padding": null,
            "right": null,
            "top": null,
            "visibility": null,
            "width": null
          }
        },
        "64c99923ee0d497a9645edbdfbab9e47": {
          "model_module": "@jupyter-widgets/controls",
          "model_name": "DescriptionStyleModel",
          "model_module_version": "1.5.0",
          "state": {
            "_model_module": "@jupyter-widgets/controls",
            "_model_module_version": "1.5.0",
            "_model_name": "DescriptionStyleModel",
            "_view_count": null,
            "_view_module": "@jupyter-widgets/base",
            "_view_module_version": "1.2.0",
            "_view_name": "StyleView",
            "description_width": ""
          }
        },
        "d3621c23733c42208ff2132214b57630": {
          "model_module": "@jupyter-widgets/base",
          "model_name": "LayoutModel",
          "model_module_version": "1.2.0",
          "state": {
            "_model_module": "@jupyter-widgets/base",
            "_model_module_version": "1.2.0",
            "_model_name": "LayoutModel",
            "_view_count": null,
            "_view_module": "@jupyter-widgets/base",
            "_view_module_version": "1.2.0",
            "_view_name": "LayoutView",
            "align_content": null,
            "align_items": null,
            "align_self": null,
            "border": null,
            "bottom": null,
            "display": null,
            "flex": null,
            "flex_flow": null,
            "grid_area": null,
            "grid_auto_columns": null,
            "grid_auto_flow": null,
            "grid_auto_rows": null,
            "grid_column": null,
            "grid_gap": null,
            "grid_row": null,
            "grid_template_areas": null,
            "grid_template_columns": null,
            "grid_template_rows": null,
            "height": null,
            "justify_content": null,
            "justify_items": null,
            "left": null,
            "margin": null,
            "max_height": null,
            "max_width": null,
            "min_height": null,
            "min_width": null,
            "object_fit": null,
            "object_position": null,
            "order": null,
            "overflow": null,
            "overflow_x": null,
            "overflow_y": null,
            "padding": null,
            "right": null,
            "top": null,
            "visibility": null,
            "width": null
          }
        },
        "6b4036bd0b674cd9a4d7b4cb0ba7be8e": {
          "model_module": "@jupyter-widgets/controls",
          "model_name": "ProgressStyleModel",
          "model_module_version": "1.5.0",
          "state": {
            "_model_module": "@jupyter-widgets/controls",
            "_model_module_version": "1.5.0",
            "_model_name": "ProgressStyleModel",
            "_view_count": null,
            "_view_module": "@jupyter-widgets/base",
            "_view_module_version": "1.2.0",
            "_view_name": "StyleView",
            "bar_color": null,
            "description_width": ""
          }
        },
        "9e85981ef7cc4b3b85f3f23b7cf7089d": {
          "model_module": "@jupyter-widgets/base",
          "model_name": "LayoutModel",
          "model_module_version": "1.2.0",
          "state": {
            "_model_module": "@jupyter-widgets/base",
            "_model_module_version": "1.2.0",
            "_model_name": "LayoutModel",
            "_view_count": null,
            "_view_module": "@jupyter-widgets/base",
            "_view_module_version": "1.2.0",
            "_view_name": "LayoutView",
            "align_content": null,
            "align_items": null,
            "align_self": null,
            "border": null,
            "bottom": null,
            "display": null,
            "flex": null,
            "flex_flow": null,
            "grid_area": null,
            "grid_auto_columns": null,
            "grid_auto_flow": null,
            "grid_auto_rows": null,
            "grid_column": null,
            "grid_gap": null,
            "grid_row": null,
            "grid_template_areas": null,
            "grid_template_columns": null,
            "grid_template_rows": null,
            "height": null,
            "justify_content": null,
            "justify_items": null,
            "left": null,
            "margin": null,
            "max_height": null,
            "max_width": null,
            "min_height": null,
            "min_width": null,
            "object_fit": null,
            "object_position": null,
            "order": null,
            "overflow": null,
            "overflow_x": null,
            "overflow_y": null,
            "padding": null,
            "right": null,
            "top": null,
            "visibility": null,
            "width": null
          }
        },
        "c0a33df9ffe24357aa3acecaf70398bc": {
          "model_module": "@jupyter-widgets/controls",
          "model_name": "DescriptionStyleModel",
          "model_module_version": "1.5.0",
          "state": {
            "_model_module": "@jupyter-widgets/controls",
            "_model_module_version": "1.5.0",
            "_model_name": "DescriptionStyleModel",
            "_view_count": null,
            "_view_module": "@jupyter-widgets/base",
            "_view_module_version": "1.2.0",
            "_view_name": "StyleView",
            "description_width": ""
          }
        },
        "e1f90c4a2ea64133a4b655ce17241a3a": {
          "model_module": "@jupyter-widgets/controls",
          "model_name": "HBoxModel",
          "model_module_version": "1.5.0",
          "state": {
            "_dom_classes": [],
            "_model_module": "@jupyter-widgets/controls",
            "_model_module_version": "1.5.0",
            "_model_name": "HBoxModel",
            "_view_count": null,
            "_view_module": "@jupyter-widgets/controls",
            "_view_module_version": "1.5.0",
            "_view_name": "HBoxView",
            "box_style": "",
            "children": [
              "IPY_MODEL_196ce770c1ac4abdb1284b4602df26d2",
              "IPY_MODEL_f7795b2fbc6f4780b82e5de08892975e",
              "IPY_MODEL_a19c7885b6a344139bf25923148b192f"
            ],
            "layout": "IPY_MODEL_af0a1ce7b9c0404189cb80a99108fb97"
          }
        },
        "196ce770c1ac4abdb1284b4602df26d2": {
          "model_module": "@jupyter-widgets/controls",
          "model_name": "HTMLModel",
          "model_module_version": "1.5.0",
          "state": {
            "_dom_classes": [],
            "_model_module": "@jupyter-widgets/controls",
            "_model_module_version": "1.5.0",
            "_model_name": "HTMLModel",
            "_view_count": null,
            "_view_module": "@jupyter-widgets/controls",
            "_view_module_version": "1.5.0",
            "_view_name": "HTMLView",
            "description": "",
            "description_tooltip": null,
            "layout": "IPY_MODEL_69d6970470d54457a60e808afaea6fbc",
            "placeholder": "​",
            "style": "IPY_MODEL_6f22b61166b84c34a2c8f5f7e582ea69",
            "value": "100%"
          }
        },
        "f7795b2fbc6f4780b82e5de08892975e": {
          "model_module": "@jupyter-widgets/controls",
          "model_name": "FloatProgressModel",
          "model_module_version": "1.5.0",
          "state": {
            "_dom_classes": [],
            "_model_module": "@jupyter-widgets/controls",
            "_model_module_version": "1.5.0",
            "_model_name": "FloatProgressModel",
            "_view_count": null,
            "_view_module": "@jupyter-widgets/controls",
            "_view_module_version": "1.5.0",
            "_view_name": "ProgressView",
            "bar_style": "success",
            "description": "",
            "description_tooltip": null,
            "layout": "IPY_MODEL_61c8c7486cd441f3852a47d2a9a4dd5c",
            "max": 4542,
            "min": 0,
            "orientation": "horizontal",
            "style": "IPY_MODEL_8cb68b634f774a94a38823d41b2accd5",
            "value": 4542
          }
        },
        "a19c7885b6a344139bf25923148b192f": {
          "model_module": "@jupyter-widgets/controls",
          "model_name": "HTMLModel",
          "model_module_version": "1.5.0",
          "state": {
            "_dom_classes": [],
            "_model_module": "@jupyter-widgets/controls",
            "_model_module_version": "1.5.0",
            "_model_name": "HTMLModel",
            "_view_count": null,
            "_view_module": "@jupyter-widgets/controls",
            "_view_module_version": "1.5.0",
            "_view_name": "HTMLView",
            "description": "",
            "description_tooltip": null,
            "layout": "IPY_MODEL_5a5341f324fc470ca126e6ee03ba2fe8",
            "placeholder": "​",
            "style": "IPY_MODEL_1a9fd33eea5643dbb1119f8aacb7c2f5",
            "value": " 4542/4542 [00:00&lt;00:00, 73916.04it/s]"
          }
        },
        "af0a1ce7b9c0404189cb80a99108fb97": {
          "model_module": "@jupyter-widgets/base",
          "model_name": "LayoutModel",
          "model_module_version": "1.2.0",
          "state": {
            "_model_module": "@jupyter-widgets/base",
            "_model_module_version": "1.2.0",
            "_model_name": "LayoutModel",
            "_view_count": null,
            "_view_module": "@jupyter-widgets/base",
            "_view_module_version": "1.2.0",
            "_view_name": "LayoutView",
            "align_content": null,
            "align_items": null,
            "align_self": null,
            "border": null,
            "bottom": null,
            "display": null,
            "flex": null,
            "flex_flow": null,
            "grid_area": null,
            "grid_auto_columns": null,
            "grid_auto_flow": null,
            "grid_auto_rows": null,
            "grid_column": null,
            "grid_gap": null,
            "grid_row": null,
            "grid_template_areas": null,
            "grid_template_columns": null,
            "grid_template_rows": null,
            "height": null,
            "justify_content": null,
            "justify_items": null,
            "left": null,
            "margin": null,
            "max_height": null,
            "max_width": null,
            "min_height": null,
            "min_width": null,
            "object_fit": null,
            "object_position": null,
            "order": null,
            "overflow": null,
            "overflow_x": null,
            "overflow_y": null,
            "padding": null,
            "right": null,
            "top": null,
            "visibility": null,
            "width": null
          }
        },
        "69d6970470d54457a60e808afaea6fbc": {
          "model_module": "@jupyter-widgets/base",
          "model_name": "LayoutModel",
          "model_module_version": "1.2.0",
          "state": {
            "_model_module": "@jupyter-widgets/base",
            "_model_module_version": "1.2.0",
            "_model_name": "LayoutModel",
            "_view_count": null,
            "_view_module": "@jupyter-widgets/base",
            "_view_module_version": "1.2.0",
            "_view_name": "LayoutView",
            "align_content": null,
            "align_items": null,
            "align_self": null,
            "border": null,
            "bottom": null,
            "display": null,
            "flex": null,
            "flex_flow": null,
            "grid_area": null,
            "grid_auto_columns": null,
            "grid_auto_flow": null,
            "grid_auto_rows": null,
            "grid_column": null,
            "grid_gap": null,
            "grid_row": null,
            "grid_template_areas": null,
            "grid_template_columns": null,
            "grid_template_rows": null,
            "height": null,
            "justify_content": null,
            "justify_items": null,
            "left": null,
            "margin": null,
            "max_height": null,
            "max_width": null,
            "min_height": null,
            "min_width": null,
            "object_fit": null,
            "object_position": null,
            "order": null,
            "overflow": null,
            "overflow_x": null,
            "overflow_y": null,
            "padding": null,
            "right": null,
            "top": null,
            "visibility": null,
            "width": null
          }
        },
        "6f22b61166b84c34a2c8f5f7e582ea69": {
          "model_module": "@jupyter-widgets/controls",
          "model_name": "DescriptionStyleModel",
          "model_module_version": "1.5.0",
          "state": {
            "_model_module": "@jupyter-widgets/controls",
            "_model_module_version": "1.5.0",
            "_model_name": "DescriptionStyleModel",
            "_view_count": null,
            "_view_module": "@jupyter-widgets/base",
            "_view_module_version": "1.2.0",
            "_view_name": "StyleView",
            "description_width": ""
          }
        },
        "61c8c7486cd441f3852a47d2a9a4dd5c": {
          "model_module": "@jupyter-widgets/base",
          "model_name": "LayoutModel",
          "model_module_version": "1.2.0",
          "state": {
            "_model_module": "@jupyter-widgets/base",
            "_model_module_version": "1.2.0",
            "_model_name": "LayoutModel",
            "_view_count": null,
            "_view_module": "@jupyter-widgets/base",
            "_view_module_version": "1.2.0",
            "_view_name": "LayoutView",
            "align_content": null,
            "align_items": null,
            "align_self": null,
            "border": null,
            "bottom": null,
            "display": null,
            "flex": null,
            "flex_flow": null,
            "grid_area": null,
            "grid_auto_columns": null,
            "grid_auto_flow": null,
            "grid_auto_rows": null,
            "grid_column": null,
            "grid_gap": null,
            "grid_row": null,
            "grid_template_areas": null,
            "grid_template_columns": null,
            "grid_template_rows": null,
            "height": null,
            "justify_content": null,
            "justify_items": null,
            "left": null,
            "margin": null,
            "max_height": null,
            "max_width": null,
            "min_height": null,
            "min_width": null,
            "object_fit": null,
            "object_position": null,
            "order": null,
            "overflow": null,
            "overflow_x": null,
            "overflow_y": null,
            "padding": null,
            "right": null,
            "top": null,
            "visibility": null,
            "width": null
          }
        },
        "8cb68b634f774a94a38823d41b2accd5": {
          "model_module": "@jupyter-widgets/controls",
          "model_name": "ProgressStyleModel",
          "model_module_version": "1.5.0",
          "state": {
            "_model_module": "@jupyter-widgets/controls",
            "_model_module_version": "1.5.0",
            "_model_name": "ProgressStyleModel",
            "_view_count": null,
            "_view_module": "@jupyter-widgets/base",
            "_view_module_version": "1.2.0",
            "_view_name": "StyleView",
            "bar_color": null,
            "description_width": ""
          }
        },
        "5a5341f324fc470ca126e6ee03ba2fe8": {
          "model_module": "@jupyter-widgets/base",
          "model_name": "LayoutModel",
          "model_module_version": "1.2.0",
          "state": {
            "_model_module": "@jupyter-widgets/base",
            "_model_module_version": "1.2.0",
            "_model_name": "LayoutModel",
            "_view_count": null,
            "_view_module": "@jupyter-widgets/base",
            "_view_module_version": "1.2.0",
            "_view_name": "LayoutView",
            "align_content": null,
            "align_items": null,
            "align_self": null,
            "border": null,
            "bottom": null,
            "display": null,
            "flex": null,
            "flex_flow": null,
            "grid_area": null,
            "grid_auto_columns": null,
            "grid_auto_flow": null,
            "grid_auto_rows": null,
            "grid_column": null,
            "grid_gap": null,
            "grid_row": null,
            "grid_template_areas": null,
            "grid_template_columns": null,
            "grid_template_rows": null,
            "height": null,
            "justify_content": null,
            "justify_items": null,
            "left": null,
            "margin": null,
            "max_height": null,
            "max_width": null,
            "min_height": null,
            "min_width": null,
            "object_fit": null,
            "object_position": null,
            "order": null,
            "overflow": null,
            "overflow_x": null,
            "overflow_y": null,
            "padding": null,
            "right": null,
            "top": null,
            "visibility": null,
            "width": null
          }
        },
        "1a9fd33eea5643dbb1119f8aacb7c2f5": {
          "model_module": "@jupyter-widgets/controls",
          "model_name": "DescriptionStyleModel",
          "model_module_version": "1.5.0",
          "state": {
            "_model_module": "@jupyter-widgets/controls",
            "_model_module_version": "1.5.0",
            "_model_name": "DescriptionStyleModel",
            "_view_count": null,
            "_view_module": "@jupyter-widgets/base",
            "_view_module_version": "1.2.0",
            "_view_name": "StyleView",
            "description_width": ""
          }
        }
      }
    }
  },
  "cells": [
    {
      "cell_type": "markdown",
      "source": [
        "# ***Python para Machine Learning***"
      ],
      "metadata": {
        "id": "FDby_f1zy4zv"
      }
    },
    {
      "cell_type": "markdown",
      "source": [
        "\n",
        "```\n",
        "Bootcamp Geração Tech Unimed-BH - Ciência de Dados\n",
        "Notas de aula de Argemiro Leite\n",
        "Apresentação: Prof. Dr. Diego Renan\n",
        "```"
      ],
      "metadata": {
        "id": "h1DoiAarxgw9"
      }
    },
    {
      "cell_type": "markdown",
      "source": [
        "## ***Introdução***\n",
        "\n",
        "Em ciência da computação e campos relacionados, redes neurais artificiais ou redes neuronais artificiais (RNAs) são modelos computacionais inspirados pelo sistema nervoso central de um animal (em particular o cérebro) que são capazes de realizar o aprendizado de máquina bem como o reconhecimento de padrões.\n",
        "\n",
        "Uma rede neural utilizada em aprendizado de máquina imita os processos de aprendizado do cérebro humano. Orientada por algoritmos avançados, essa rede  identifica padrões em conjuntos de dados vastos, permitindo generalizações mais precisas sobre o que estivermos estudando, por exemplo, identificação de imagens de escrita à mão livre de letras e números.\n",
        "\n",
        "<center>Estutura básica de uma rede neural\n",
        "\n",
        "![](https://drive.google.com/uc?id=1I7T1tbdrK3BdMjjc399G7Zxcm2ZlLbg8)\n",
        "</center>\n",
        "\n",
        "Para tanto é necessário preparar as imagens (sinais de entrada), criando uma base de dados de para a etapa de treinamento, dentro da abordagem do ML (_Machine Learning_).\n",
        "\n",
        "A transformação de imagem é um processo feito para alterar os valores originais dos pixels da imagem para um conjunto de novos valores. Um tipo de transformação que fazemos nas imagens é transformar uma imagem em um ***tensor***.\n",
        "\n",
        "Tensor é uma matriz n-dimensional e é interessante usarmos ele durante os processos por conta de que podem ser utilizados tanto na CPU quanto em GPU, pois isso acelera o processo computacional relacionado à _deep learning_ ou aprendizagem profunda.\n",
        "\n",
        "Quando uma imagem é transformada em um tensor pela biblioteca _Pytorch_, os valores de pixel são redimensionados entre 0,0 e 1,0. Este formato é mais bem aceito pelos modelos de rede neurais existentes garantindo melhor performance.\n",
        "\n",
        "Cada pixel individual da imagem é dividido em seus 3 canais de cores e montado junto com a posição do pixel em um tensor. Para garantir que todos os tensores tenham sempre o mesmo tamanho (mesmo número de entradas para a rede neural), todas as imagens devem, primeiro, ser dimensionadas para um tamanho uniforme.\n",
        "\n",
        "Com a bliblioteca _PyTorch_, essa transformação pode ser feita usando:\n",
        "```\n",
        "torchvision.transforms.ToTensor(). \n",
        "``` \n",
        "Ela converte a imagem PIL (Image-handling packages) com um intervalo de pixels de [0, 255] em um PyTorch FloatTensor (CHW) com um intervalo [0,0, 1,0].\n",
        "\n",
        "O modelo de ***rede neural*** a ser usado no projeto será o [InceptionV3](https://keras.io/api/applications/inceptionv3/) desenvolvido pelo Facebook para reconhecimento facial."
      ],
      "metadata": {
        "id": "KTlIOE4ale4X"
      }
    },
    {
      "cell_type": "markdown",
      "source": [
        "## ***Objetivo***\n",
        "Nesse projeto iremos implementar uma rede neural baseada no modelo Inception, desenvolvendo uma abordagem procedural em Python usando o Mnist Database.\n",
        "\n",
        "O Mnist é um grande banco de dados de dígitos manuscritos que é comumente usado para treinar vários sistemas de processamento de imagem. Esse banco de dados também é amplamente utilizado para treinamento e testes na área de aprendizado de máquina (ML).\n"
      ],
      "metadata": {
        "id": "GDSsRSyOljn-"
      }
    },
    {
      "cell_type": "markdown",
      "source": [
        "## ***Desenvolvimento***"
      ],
      "metadata": {
        "id": "OLIzzV_mU9bl"
      }
    },
    {
      "cell_type": "markdown",
      "source": [
        "### ***Importando as bibliotecas***"
      ],
      "metadata": {
        "id": "Fe0g_AVTmdse"
      }
    },
    {
      "cell_type": "code",
      "execution_count": 1,
      "metadata": {
        "id": "ByF1mRP-lQN4"
      },
      "outputs": [],
      "source": [
        "import numpy as np                           # \n",
        "import torch                                 #\n",
        "import torch.nn.functional as F              #\n",
        "import torchvision                           #\n",
        "import matplotlib.pyplot as plt              #\n",
        "from time import time                        #\n",
        "from torch import nn, optim                  #\n",
        "from torchvision import transforms, datasets #"
      ]
    },
    {
      "cell_type": "code",
      "source": [
        "# Definir a conversão de imagem para tensor\n",
        "transform = transforms.ToTensor()"
      ],
      "metadata": {
        "id": "654nInlSxajz"
      },
      "execution_count": 2,
      "outputs": []
    },
    {
      "cell_type": "code",
      "source": [
        "# Carregar a parte de treino do dataset\n",
        "trainset = datasets.MNIST('./MNIST_data/', download=True, train=True, transform=transform)"
      ],
      "metadata": {
        "id": "tTxrypS0MV6I",
        "colab": {
          "base_uri": "https://localhost:8080/",
          "height": 423,
          "referenced_widgets": [
            "e86a663d8e8f41d783af441928a4a9fb",
            "6bbdba4614dc4dccad29c0e65b5abdb5",
            "e28fb61009ec4aeeac34c0360ec4e591",
            "e468a914a6eb4f91abfb970a45c7f691",
            "0ac1ee48fa64423ba5f8e61a6f2cb432",
            "10517450b2dc47f6b129fcc7d791690d",
            "abb2a667cd424321b1c8f854b8eb1052",
            "534e83034b6a4c6a9fa907c5b4f6561e",
            "f1f534a30c144ab79295805b58ce4d8d",
            "7398ffb922ea48d1b60c4aa86c595203",
            "6602eac1b41344668e2e580f3e2bc6e8",
            "4b2d8d1cc0b946c0af2a1dd6c5e30b4d",
            "45afb681066d4960b8c333217654fe3f",
            "31eabba5ccfb4c18977f4e2019d024f5",
            "72c119472d364346aeba4e1f556e07a5",
            "eb7a06d7acac4f45bdd64c30083fc0f2",
            "b95387369faf433a863e345b3c53c7b7",
            "ac80b66552c242e6b2de3fa4f71407da",
            "d6039bb2682c4fc896fd01fce4bde04b",
            "e0a5769e6e774de9861bfef1e7a46d9a",
            "04965c2a22bf4ee4949a75ec2a29cff2",
            "d2382703efa84511ace53c05b89923f1",
            "e0ee8d04355547dda19a4cabe72606c9",
            "56981267d6c34d01a7a06e51bb4a8b16",
            "a9b9f416eadc4b56abd0e6a907187828",
            "b494f7745841442e911f920debfa273c",
            "a7fdc8a0a91d408e8b8cce1ff0c8400f",
            "179b1d3d4650473694a6febd6bbdf235",
            "64c99923ee0d497a9645edbdfbab9e47",
            "d3621c23733c42208ff2132214b57630",
            "6b4036bd0b674cd9a4d7b4cb0ba7be8e",
            "9e85981ef7cc4b3b85f3f23b7cf7089d",
            "c0a33df9ffe24357aa3acecaf70398bc",
            "e1f90c4a2ea64133a4b655ce17241a3a",
            "196ce770c1ac4abdb1284b4602df26d2",
            "f7795b2fbc6f4780b82e5de08892975e",
            "a19c7885b6a344139bf25923148b192f",
            "af0a1ce7b9c0404189cb80a99108fb97",
            "69d6970470d54457a60e808afaea6fbc",
            "6f22b61166b84c34a2c8f5f7e582ea69",
            "61c8c7486cd441f3852a47d2a9a4dd5c",
            "8cb68b634f774a94a38823d41b2accd5",
            "5a5341f324fc470ca126e6ee03ba2fe8",
            "1a9fd33eea5643dbb1119f8aacb7c2f5"
          ]
        },
        "outputId": "d9f8b79c-b4c1-4b0d-a217-fd586738191e"
      },
      "execution_count": 3,
      "outputs": [
        {
          "output_type": "stream",
          "name": "stdout",
          "text": [
            "Downloading http://yann.lecun.com/exdb/mnist/train-images-idx3-ubyte.gz\n",
            "Downloading http://yann.lecun.com/exdb/mnist/train-images-idx3-ubyte.gz to ./MNIST_data/MNIST/raw/train-images-idx3-ubyte.gz\n"
          ]
        },
        {
          "output_type": "display_data",
          "data": {
            "text/plain": [
              "  0%|          | 0/9912422 [00:00<?, ?it/s]"
            ],
            "application/vnd.jupyter.widget-view+json": {
              "version_major": 2,
              "version_minor": 0,
              "model_id": "e86a663d8e8f41d783af441928a4a9fb"
            }
          },
          "metadata": {}
        },
        {
          "output_type": "stream",
          "name": "stdout",
          "text": [
            "Extracting ./MNIST_data/MNIST/raw/train-images-idx3-ubyte.gz to ./MNIST_data/MNIST/raw\n",
            "\n",
            "Downloading http://yann.lecun.com/exdb/mnist/train-labels-idx1-ubyte.gz\n",
            "Downloading http://yann.lecun.com/exdb/mnist/train-labels-idx1-ubyte.gz to ./MNIST_data/MNIST/raw/train-labels-idx1-ubyte.gz\n"
          ]
        },
        {
          "output_type": "display_data",
          "data": {
            "text/plain": [
              "  0%|          | 0/28881 [00:00<?, ?it/s]"
            ],
            "application/vnd.jupyter.widget-view+json": {
              "version_major": 2,
              "version_minor": 0,
              "model_id": "4b2d8d1cc0b946c0af2a1dd6c5e30b4d"
            }
          },
          "metadata": {}
        },
        {
          "output_type": "stream",
          "name": "stdout",
          "text": [
            "Extracting ./MNIST_data/MNIST/raw/train-labels-idx1-ubyte.gz to ./MNIST_data/MNIST/raw\n",
            "\n",
            "Downloading http://yann.lecun.com/exdb/mnist/t10k-images-idx3-ubyte.gz\n",
            "Downloading http://yann.lecun.com/exdb/mnist/t10k-images-idx3-ubyte.gz to ./MNIST_data/MNIST/raw/t10k-images-idx3-ubyte.gz\n"
          ]
        },
        {
          "output_type": "display_data",
          "data": {
            "text/plain": [
              "  0%|          | 0/1648877 [00:00<?, ?it/s]"
            ],
            "application/vnd.jupyter.widget-view+json": {
              "version_major": 2,
              "version_minor": 0,
              "model_id": "e0ee8d04355547dda19a4cabe72606c9"
            }
          },
          "metadata": {}
        },
        {
          "output_type": "stream",
          "name": "stdout",
          "text": [
            "Extracting ./MNIST_data/MNIST/raw/t10k-images-idx3-ubyte.gz to ./MNIST_data/MNIST/raw\n",
            "\n",
            "Downloading http://yann.lecun.com/exdb/mnist/t10k-labels-idx1-ubyte.gz\n",
            "Downloading http://yann.lecun.com/exdb/mnist/t10k-labels-idx1-ubyte.gz to ./MNIST_data/MNIST/raw/t10k-labels-idx1-ubyte.gz\n"
          ]
        },
        {
          "output_type": "display_data",
          "data": {
            "text/plain": [
              "  0%|          | 0/4542 [00:00<?, ?it/s]"
            ],
            "application/vnd.jupyter.widget-view+json": {
              "version_major": 2,
              "version_minor": 0,
              "model_id": "e1f90c4a2ea64133a4b655ce17241a3a"
            }
          },
          "metadata": {}
        },
        {
          "output_type": "stream",
          "name": "stdout",
          "text": [
            "Extracting ./MNIST_data/MNIST/raw/t10k-labels-idx1-ubyte.gz to ./MNIST_data/MNIST/raw\n",
            "\n"
          ]
        }
      ]
    },
    {
      "cell_type": "code",
      "source": [
        "# Criar um buffer para receber parte dos dados\n",
        "trainloader = torch.utils.data.DataLoader(trainset, batch_size=64, shuffle=True)"
      ],
      "metadata": {
        "id": "qpINyjrjMVwg"
      },
      "execution_count": 4,
      "outputs": []
    },
    {
      "cell_type": "code",
      "source": [
        "# Carregar a parte de validação do dataset\n",
        "valset = datasets.MNIST('./MNIST_data/', download=True, train=True, transform=transform)"
      ],
      "metadata": {
        "id": "WplZ2PhwMVnZ"
      },
      "execution_count": 5,
      "outputs": []
    },
    {
      "cell_type": "code",
      "source": [
        "# Criar um buffer para receber parte dos dados\n",
        "valloader = torch.utils.data.DataLoader(valset, batch_size=64, shuffle=True)"
      ],
      "metadata": {
        "id": "7tm_xW5-MVah"
      },
      "execution_count": 6,
      "outputs": []
    },
    {
      "cell_type": "code",
      "source": [
        "# Recuperando a representação de um dígito para comprovação da estrutura de dados montada"
      ],
      "metadata": {
        "id": "eD09jpjjMVO2"
      },
      "execution_count": 7,
      "outputs": []
    },
    {
      "cell_type": "code",
      "source": [
        "# A função iter() lê a imagem disponibilizada em trainloader\n",
        "dataiter = iter(trainloader)"
      ],
      "metadata": {
        "id": "v4Z6yY2mMU9W"
      },
      "execution_count": 8,
      "outputs": []
    },
    {
      "cell_type": "code",
      "source": [
        "# Carregando uma imagem tensor em imagens\n",
        "imagens, etiquetas = dataiter.next()"
      ],
      "metadata": {
        "id": "qT2acRmbxT6H"
      },
      "execution_count": 9,
      "outputs": []
    },
    {
      "cell_type": "code",
      "source": [
        "# Plotar o conjunto de imagens baixadas \n",
        "plt.imshow(imagens[17].numpy().squeeze(),cmap='gray_r')\n"
      ],
      "metadata": {
        "colab": {
          "base_uri": "https://localhost:8080/",
          "height": 282
        },
        "id": "9X_6y4abxbP1",
        "outputId": "cc9d4367-885f-41f4-953f-553f23dbb842"
      },
      "execution_count": 10,
      "outputs": [
        {
          "output_type": "execute_result",
          "data": {
            "text/plain": [
              "<matplotlib.image.AxesImage at 0x7fe0d1c54ed0>"
            ]
          },
          "metadata": {},
          "execution_count": 10
        },
        {
          "output_type": "display_data",
          "data": {
            "text/plain": [
              "<Figure size 432x288 with 1 Axes>"
            ],
            "image/png": "[encoded data removed]"
          },
          "metadata": {
            "needs_background": "light"
          }
        }
      ]
    },
    {
      "cell_type": "code",
      "source": [
        "len(imagens)"
      ],
      "metadata": {
        "colab": {
          "base_uri": "https://localhost:8080/"
        },
        "id": "tGAgDxdMx7fi",
        "outputId": "6266be1e-db12-4db0-802b-3ad21b456cdb"
      },
      "execution_count": 11,
      "outputs": [
        {
          "output_type": "execute_result",
          "data": {
            "text/plain": [
              "64"
            ]
          },
          "metadata": {},
          "execution_count": 11
        }
      ]
    },
    {
      "cell_type": "code",
      "source": [
        "print (imagens[17])"
      ],
      "metadata": {
        "colab": {
          "base_uri": "https://localhost:8080/"
        },
        "id": "uxdBiQvH1Ee3",
        "outputId": "7a2deb42-ae0d-4203-892a-730e60054621"
      },
      "execution_count": 12,
      "outputs": [
        {
          "output_type": "stream",
          "name": "stdout",
          "text": [
            "tensor([[[0.0000, 0.0000, 0.0000, 0.0000, 0.0000, 0.0000, 0.0000, 0.0000,\n",
            "          0.0000, 0.0000, 0.0000, 0.0000, 0.0000, 0.0000, 0.0000, 0.0000,\n",
            "          0.0000, 0.0000, 0.0000, 0.0000, 0.0000, 0.0000, 0.0000, 0.0000,\n",
            "          0.0000, 0.0000, 0.0000, 0.0000],\n",
            "         [0.0000, 0.0000, 0.0000, 0.0000, 0.0000, 0.0000, 0.0000, 0.0000,\n",
            "          0.0000, 0.0000, 0.0000, 0.0000, 0.0000, 0.0000, 0.0000, 0.0000,\n",
            "          0.0000, 0.0000, 0.0000, 0.0000, 0.0000, 0.0000, 0.0000, 0.0000,\n",
            "          0.0000, 0.0000, 0.0000, 0.0000],\n",
            "         [0.0000, 0.0000, 0.0000, 0.0000, 0.0000, 0.0000, 0.0000, 0.0000,\n",
            "          0.0000, 0.0000, 0.0000, 0.0000, 0.0000, 0.0000, 0.0000, 0.0000,\n",
            "          0.0000, 0.0000, 0.0000, 0.0000, 0.0000, 0.0000, 0.0000, 0.0000,\n",
            "          0.0000, 0.0000, 0.0000, 0.0000],\n",
            "         [0.0000, 0.0000, 0.0000, 0.0000, 0.0000, 0.0000, 0.0000, 0.0000,\n",
            "          0.0000, 0.0000, 0.0000, 0.0000, 0.0000, 0.0000, 0.0000, 0.0000,\n",
            "          0.0000, 0.0000, 0.0000, 0.0000, 0.0000, 0.0000, 0.0000, 0.0000,\n",
            "          0.0000, 0.0000, 0.0000, 0.0000],\n",
            "         [0.0000, 0.0000, 0.0000, 0.0000, 0.0000, 0.0000, 0.0000, 0.0000,\n",
            "          0.0000, 0.0000, 0.0000, 0.0000, 0.0000, 0.0000, 0.0000, 0.0000,\n",
            "          0.0000, 0.0000, 0.0000, 0.0000, 0.0000, 0.0000, 0.0000, 0.0000,\n",
            "          0.0000, 0.0000, 0.0000, 0.0000],\n",
            "         [0.0000, 0.0000, 0.0000, 0.0000, 0.0000, 0.0000, 0.0000, 0.0000,\n",
            "          0.0000, 0.0000, 0.0000, 0.0000, 0.2431, 0.6784, 0.9922, 0.9176,\n",
            "          0.2000, 0.0000, 0.0000, 0.0000, 0.0000, 0.0000, 0.0000, 0.0000,\n",
            "          0.0000, 0.0000, 0.0000, 0.0000],\n",
            "         [0.0000, 0.0000, 0.0000, 0.0000, 0.0000, 0.0000, 0.0000, 0.0000,\n",
            "          0.0000, 0.0000, 0.0000, 0.2431, 0.7961, 0.9922, 0.9882, 0.9922,\n",
            "          0.9098, 0.0000, 0.0000, 0.0000, 0.0000, 0.0000, 0.0000, 0.0000,\n",
            "          0.0000, 0.0000, 0.0000, 0.0000],\n",
            "         [0.0000, 0.0000, 0.0000, 0.0000, 0.0000, 0.0000, 0.0000, 0.0000,\n",
            "          0.0000, 0.0000, 0.0000, 0.8392, 0.9922, 0.9961, 0.9922, 0.9961,\n",
            "          0.9922, 0.9961, 0.8353, 0.2039, 0.0392, 0.0000, 0.0000, 0.0000,\n",
            "          0.0000, 0.0000, 0.0000, 0.0000],\n",
            "         [0.0000, 0.0000, 0.0000, 0.0000, 0.0000, 0.0000, 0.0000, 0.0000,\n",
            "          0.0000, 0.0000, 0.3216, 0.9922, 0.9882, 0.9922, 0.9882, 0.9922,\n",
            "          0.9882, 0.9922, 0.9882, 0.9922, 0.5137, 0.0000, 0.0000, 0.0000,\n",
            "          0.0000, 0.0000, 0.0000, 0.0000],\n",
            "         [0.0000, 0.0000, 0.0000, 0.0000, 0.0000, 0.0000, 0.0000, 0.0000,\n",
            "          0.0000, 0.0000, 0.6392, 0.9961, 0.9922, 0.9961, 0.9922, 0.9961,\n",
            "          0.9922, 0.7961, 0.9529, 0.9961, 0.9922, 0.4000, 0.0000, 0.0000,\n",
            "          0.0000, 0.0000, 0.0000, 0.0000],\n",
            "         [0.0000, 0.0000, 0.0000, 0.0000, 0.0000, 0.0000, 0.0000, 0.0000,\n",
            "          0.0000, 0.4824, 0.9529, 0.9922, 0.9882, 0.9922, 0.9882, 0.9137,\n",
            "          0.2745, 0.0000, 0.3176, 0.8353, 0.9882, 0.7961, 0.0784, 0.0000,\n",
            "          0.0000, 0.0000, 0.0000, 0.0000],\n",
            "         [0.0000, 0.0000, 0.0000, 0.0000, 0.0000, 0.0000, 0.0000, 0.0000,\n",
            "          0.0000, 0.9961, 0.9922, 0.9569, 0.8745, 0.9961, 0.9922, 0.1608,\n",
            "          0.0000, 0.0000, 0.0000, 0.2000, 0.9922, 0.9961, 0.5922, 0.0000,\n",
            "          0.0000, 0.0000, 0.0000, 0.0000],\n",
            "         [0.0000, 0.0000, 0.0000, 0.0000, 0.0000, 0.0000, 0.0000, 0.0000,\n",
            "          0.4824, 0.9922, 0.9882, 0.6353, 0.4000, 0.9922, 0.6706, 0.0000,\n",
            "          0.0000, 0.0000, 0.0000, 0.0392, 0.8314, 0.9922, 0.5922, 0.0000,\n",
            "          0.0000, 0.0000, 0.0000, 0.0000],\n",
            "         [0.0000, 0.0000, 0.0000, 0.0000, 0.0000, 0.0000, 0.0000, 0.0000,\n",
            "          0.7961, 0.9961, 0.9922, 0.3216, 0.7176, 0.9961, 0.8353, 0.0000,\n",
            "          0.0000, 0.0000, 0.0000, 0.0000, 0.5569, 0.9961, 0.9922, 0.0000,\n",
            "          0.0000, 0.0000, 0.0000, 0.0000],\n",
            "         [0.0000, 0.0000, 0.0000, 0.0000, 0.0000, 0.0000, 0.0000, 0.1608,\n",
            "          0.9529, 0.9922, 0.9882, 0.0000, 0.2392, 0.9922, 0.9882, 0.3216,\n",
            "          0.0000, 0.0000, 0.0000, 0.0000, 0.7176, 0.9922, 0.8314, 0.0000,\n",
            "          0.0000, 0.0000, 0.0000, 0.0000],\n",
            "         [0.0000, 0.0000, 0.0000, 0.0000, 0.0000, 0.0000, 0.0000, 0.2039,\n",
            "          0.9922, 0.9961, 0.5922, 0.0000, 0.0000, 0.2431, 0.7176, 0.4824,\n",
            "          0.0000, 0.0000, 0.0000, 0.0000, 0.7961, 0.9961, 0.5922, 0.0000,\n",
            "          0.0000, 0.0000, 0.0000, 0.0000],\n",
            "         [0.0000, 0.0000, 0.0000, 0.0000, 0.0000, 0.0000, 0.0000, 0.3608,\n",
            "          0.9882, 0.9922, 0.5922, 0.0000, 0.0000, 0.0000, 0.0000, 0.0000,\n",
            "          0.0000, 0.0000, 0.0000, 0.1608, 0.9529, 0.9922, 0.5922, 0.0000,\n",
            "          0.0000, 0.0000, 0.0000, 0.0000],\n",
            "         [0.0000, 0.0000, 0.0000, 0.0000, 0.0000, 0.0000, 0.0000, 0.2039,\n",
            "          0.9922, 0.9961, 0.3569, 0.0000, 0.0000, 0.0000, 0.0000, 0.0000,\n",
            "          0.0000, 0.0000, 0.0824, 0.8392, 0.9922, 0.9961, 0.3569, 0.0000,\n",
            "          0.0000, 0.0000, 0.0000, 0.0000],\n",
            "         [0.0000, 0.0000, 0.0000, 0.0000, 0.0000, 0.0000, 0.0000, 0.3608,\n",
            "          0.9882, 0.9922, 0.1961, 0.0000, 0.0000, 0.0000, 0.0000, 0.0000,\n",
            "          0.0000, 0.0000, 0.4000, 0.9922, 0.9882, 0.9137, 0.1176, 0.0000,\n",
            "          0.0000, 0.0000, 0.0000, 0.0000],\n",
            "         [0.0000, 0.0000, 0.0000, 0.0000, 0.0000, 0.0000, 0.0000, 0.9961,\n",
            "          0.9922, 0.9961, 0.1961, 0.0000, 0.0000, 0.0000, 0.0000, 0.0000,\n",
            "          0.0000, 0.0431, 0.5176, 0.9961, 0.9922, 0.5569, 0.0000, 0.0000,\n",
            "          0.0000, 0.0000, 0.0000, 0.0000],\n",
            "         [0.0000, 0.0000, 0.0000, 0.0000, 0.0000, 0.0000, 0.0000, 0.8353,\n",
            "          0.9882, 0.9922, 0.5137, 0.0000, 0.0000, 0.0000, 0.0000, 0.0000,\n",
            "          0.1608, 0.8353, 0.9882, 0.9922, 0.8314, 0.0784, 0.0000, 0.0000,\n",
            "          0.0000, 0.0000, 0.0000, 0.0000],\n",
            "         [0.0000, 0.0000, 0.0000, 0.0000, 0.0000, 0.0000, 0.0000, 0.3216,\n",
            "          0.9529, 1.0000, 0.8353, 0.0824, 0.0000, 0.0000, 0.0000, 0.1216,\n",
            "          0.6784, 0.9961, 0.9922, 0.7961, 0.0784, 0.0000, 0.0000, 0.0000,\n",
            "          0.0000, 0.0000, 0.0000, 0.0000],\n",
            "         [0.0000, 0.0000, 0.0000, 0.0000, 0.0000, 0.0000, 0.0000, 0.0000,\n",
            "          0.6353, 0.9922, 0.9882, 0.8745, 0.7961, 0.4000, 0.7176, 0.9137,\n",
            "          0.9882, 0.9922, 0.8314, 0.0784, 0.0000, 0.0000, 0.0000, 0.0000,\n",
            "          0.0000, 0.0000, 0.0000, 0.0000],\n",
            "         [0.0000, 0.0000, 0.0000, 0.0000, 0.0000, 0.0000, 0.0000, 0.0000,\n",
            "          0.0000, 0.7569, 0.9922, 0.9961, 0.9922, 0.9961, 0.9922, 0.9961,\n",
            "          0.9922, 0.7176, 0.0784, 0.0000, 0.0000, 0.0000, 0.0000, 0.0000,\n",
            "          0.0000, 0.0000, 0.0000, 0.0000],\n",
            "         [0.0000, 0.0000, 0.0000, 0.0000, 0.0000, 0.0000, 0.0000, 0.0000,\n",
            "          0.0000, 0.1176, 0.5137, 0.8353, 0.9882, 0.9922, 0.9882, 0.7529,\n",
            "          0.4353, 0.0000, 0.0000, 0.0000, 0.0000, 0.0000, 0.0000, 0.0000,\n",
            "          0.0000, 0.0000, 0.0000, 0.0000],\n",
            "         [0.0000, 0.0000, 0.0000, 0.0000, 0.0000, 0.0000, 0.0000, 0.0000,\n",
            "          0.0000, 0.0000, 0.0000, 0.0000, 0.0000, 0.0000, 0.0000, 0.0000,\n",
            "          0.0000, 0.0000, 0.0000, 0.0000, 0.0000, 0.0000, 0.0000, 0.0000,\n",
            "          0.0000, 0.0000, 0.0000, 0.0000],\n",
            "         [0.0000, 0.0000, 0.0000, 0.0000, 0.0000, 0.0000, 0.0000, 0.0000,\n",
            "          0.0000, 0.0000, 0.0000, 0.0000, 0.0000, 0.0000, 0.0000, 0.0000,\n",
            "          0.0000, 0.0000, 0.0000, 0.0000, 0.0000, 0.0000, 0.0000, 0.0000,\n",
            "          0.0000, 0.0000, 0.0000, 0.0000],\n",
            "         [0.0000, 0.0000, 0.0000, 0.0000, 0.0000, 0.0000, 0.0000, 0.0000,\n",
            "          0.0000, 0.0000, 0.0000, 0.0000, 0.0000, 0.0000, 0.0000, 0.0000,\n",
            "          0.0000, 0.0000, 0.0000, 0.0000, 0.0000, 0.0000, 0.0000, 0.0000,\n",
            "          0.0000, 0.0000, 0.0000, 0.0000]]])\n"
          ]
        }
      ]
    },
    {
      "cell_type": "code",
      "source": [
        "print (etiquetas)"
      ],
      "metadata": {
        "colab": {
          "base_uri": "https://localhost:8080/"
        },
        "id": "JeAbGrxd1Tc5",
        "outputId": "852ec0c0-e4f5-4643-f560-8324f8df2736"
      },
      "execution_count": 13,
      "outputs": [
        {
          "output_type": "stream",
          "name": "stdout",
          "text": [
            "tensor([8, 3, 8, 9, 9, 7, 3, 5, 3, 9, 2, 0, 6, 4, 2, 2, 1, 0, 0, 5, 5, 3, 9, 4,\n",
            "        9, 6, 0, 4, 6, 8, 9, 0, 1, 5, 7, 4, 7, 1, 3, 7, 0, 7, 3, 0, 0, 4, 4, 0,\n",
            "        6, 8, 1, 6, 8, 1, 1, 6, 8, 7, 1, 8, 1, 9, 6, 0])\n"
          ]
        }
      ]
    },
    {
      "cell_type": "code",
      "source": [
        "# Conferir o tamanho do tensor da imagem (shape())\n",
        "print (imagens.shape)"
      ],
      "metadata": {
        "colab": {
          "base_uri": "https://localhost:8080/"
        },
        "id": "q-unezts1Zwm",
        "outputId": "071e38da-1504-48ae-856b-eb7eb65fa0ed"
      },
      "execution_count": 14,
      "outputs": [
        {
          "output_type": "stream",
          "name": "stdout",
          "text": [
            "torch.Size([64, 1, 28, 28])\n"
          ]
        }
      ]
    },
    {
      "cell_type": "code",
      "source": [
        "# Conferir o tamanho do tensor da etiqueta (shape())\n",
        "print (etiquetas.shape)"
      ],
      "metadata": {
        "colab": {
          "base_uri": "https://localhost:8080/"
        },
        "id": "tDAVxudS1iVa",
        "outputId": "5decdfa9-ec26-44dd-ead6-9f1af3a280f0"
      },
      "execution_count": 15,
      "outputs": [
        {
          "output_type": "stream",
          "name": "stdout",
          "text": [
            "torch.Size([64])\n"
          ]
        }
      ]
    },
    {
      "cell_type": "markdown",
      "source": [
        "### ***Criação da rede neural***\n"
      ],
      "metadata": {
        "id": "m6CSlq29Ups1"
      }
    },
    {
      "cell_type": "markdown",
      "source": [
        "Agora iremos utilizar um modelo de rede neural para treinar o reconhecimento das imagens tensor existentes no dataset baixado anteriormente. \n",
        "\n",
        "O modelo usado será o [Inception V3](https://keras.io/api/applications/inceptionv3/) cuja arquitetura está abaixo reprentada. Esse modelo foi utilizado inicialmente pelo Facebook para reconhecimento facial. \n",
        "\n",
        "![Rede Neural Inception V3](https://drive.google.com/uc?id=1apskCmytU_aCJq_LofQSLKrGT7Rp_85w \"Rede neural Inception V3\")\n"
      ],
      "metadata": {
        "id": "mcjAoinV8IMA"
      }
    },
    {
      "cell_type": "markdown",
      "source": [
        "Inicialmente vamos inserir as camadas. A camada de entrada é constituída de 784 neurônios que se ligam aos 128 neurônios da camada 1. Esses 128 neurônios da camada 1 ligam-se a 64 neurônios da camada 2, que por sua vez, ligam-se a 10 neurônios da camada de saída.\n",
        "\n",
        "A seguir criaremos a classe Modelo() que representa essas camadas:"
      ],
      "metadata": {
        "id": "YEvSQpdpHxEv"
      }
    },
    {
      "cell_type": "code",
      "source": [
        "class Modelo(nn.Module):\n",
        "   def __init__(self):\n",
        "      super(Modelo, self).__init__()\n",
        "      self.linear1 = nn.Linear(28*28, 128)\n",
        "      self.linear2 = nn.Linear(128, 64)\n",
        "      self.linear3 = nn.Linear(64,10)"
      ],
      "metadata": {
        "id": "MzdVOk7PBbJC"
      },
      "execution_count": 16,
      "outputs": []
    },
    {
      "cell_type": "markdown",
      "source": [
        "A seguir será definida a função forward() que ativa cada uma das camadas da rede criada."
      ],
      "metadata": {
        "id": "c3Aw5dBlLXum"
      }
    },
    {
      "cell_type": "code",
      "source": [
        "def forward(self,X):\n",
        "    X = F.relu(self.linear1(X))     # Ativação da camada de entrada para camada interna 1\n",
        "    X = F.relu(self.linear2(X))     # Ativação da camada interna 1 para camada interna 2\n",
        "    X = self.linear3(X)             # Ativação da camada interna 2 para a camada de saída\n",
        "    return F.log_softmax(X, dim=1) "
      ],
      "metadata": {
        "id": "rTW-EGR8LZrZ"
      },
      "execution_count": 17,
      "outputs": []
    },
    {
      "cell_type": "markdown",
      "source": [
        "### ***Estrutura de treinamento do modelo***"
      ],
      "metadata": {
        "id": "PzNa1zOUVR3T"
      }
    },
    {
      "cell_type": "markdown",
      "source": [
        "Montaremos agora a estrutura de treinamento da nossa rede criando a função ***treino()***.\n",
        "\n",
        "No treinamento deve ser definido um número de épocas para que o treinamento ocorra. Geralmente quanto mais épocas forem definidas mais acurado será o aprendizado do modelo.\n",
        "\n",
        "Também será inserido um otimizador que define a política de atualização dos pesos e da bias. Acrescentaremos uma função  _time ()_ para sabermos quanto tempo durou o treino. \n",
        "\n",
        "Outras implementações como cálculo de perdas acumuladas e instantânea também foram feitas na mesma função e estão comentadas abaixo:"
      ],
      "metadata": {
        "id": "7aFBvQqaNWuG"
      }
    },
    {
      "cell_type": "code",
      "source": [
        "\n",
        "def treino (modelo, trainloader, device):\n",
        "    \n",
        "    # define a política de atualização dos pesos e da bias\n",
        "    otimizador = optim.SGD(modelo.parameters(), lr=0.01, momentum=0.5)\n",
        "\n",
        "    inicio = time()\n",
        "\n",
        "    # definindo o critério para calcular a perda\n",
        "    criterio = nn.NLLLoss()\n",
        "\n",
        "    # definindo o numero de epocas que o algoritmo rodará\n",
        "    EPOCHS = 10\n",
        "\n",
        "    # ativando o modo de treinamento do modelo\n",
        "    modelo.train()\n",
        "\n",
        "    for epoch in range (EPOCHS):\n",
        "\n",
        "        # inicialização da perda acumulada da epoca em questao \n",
        "        perda_acumulada = 0\n",
        "\n",
        "        for imagens, etiquetas in trainloader:\n",
        " \n",
        "            # convertendo as imagens para vetores de 28*28 casas\n",
        "            imagens = imagens.view(imagens.shape[0], -1)\n",
        "\n",
        "            # zerando os gradientes por conta do ciclo anterior\n",
        "            otimizador.zero_grad()\n",
        "\n",
        "            # colocando dados no modelo\n",
        "            output = modelo(imagens.to(device))\n",
        "\n",
        "            # calculando a perda da epoca em questao\n",
        "            perda_instantanea = criterio(output, etiquetas.to(device)) \n",
        "\n",
        "            # back propagation a partir da perda\n",
        "            perda_instantanea.backward() \n",
        "\n",
        "            # atualizando os pesos e a bias\n",
        "            otimizador.step()\n",
        "\n",
        "            # atualização da perda acumulada\n",
        "            perda_acumulada += perda_instantanea.item()\n",
        "\n",
        "        else:\n",
        "\n",
        "            print(\"Epoch {} - Perda resultante: {}\".format(epoch+1, perda_acumulada/len(trainloader)))\n",
        "\n",
        "    print (\"\\nTempo de treino (em minutos) =\" , (time() - inicio)/60)"
      ],
      "metadata": {
        "id": "YQ3A_BZ9PDU0"
      },
      "execution_count": 18,
      "outputs": []
    },
    {
      "cell_type": "markdown",
      "source": [
        "No modelo acima foi definido um valor de 10 épocas de treinamento apenas por fins didáticos. Num cenário real o valor de épocas deve ser no mínimo 100."
      ],
      "metadata": {
        "id": "j7WWhXAKT1qZ"
      }
    },
    {
      "cell_type": "markdown",
      "source": [
        "### ***Validação do treinamento***\n",
        "\n",
        "O algoritmo de validação é proposto pelo próprio Inception V3 e foram feitas as devidas adaptações."
      ],
      "metadata": {
        "id": "N0DnBDFMVZ8m"
      }
    },
    {
      "cell_type": "code",
      "source": [
        "def validação (modelo, valloader, device):\n",
        "    conta_corretas, conta_todas = 0, 0\n",
        "    for imagens, etiquetas in valloader:  \n",
        "        for i in range(len(etiquetas)):\n",
        "            img = imagens[i].view(1,784)\n",
        "            \n",
        "            # desativar o autograd para acelerar a validação \n",
        "            # Grafos computacionais dinâmicos tem alto custo de processamento\n",
        "\n",
        "            with torch.no_grad():\n",
        "\n",
        "                # outuput do modelo em escala logaritmica\n",
        "                logps = modelo(img.to(device))\n",
        "\n",
        "            # converte output para escala normal (lembrando que é um tensor)\n",
        "            ps = torch.exp(logps)\n",
        "\n",
        "            probab = list(ps.cpu().numpy()[0])\n",
        "\n",
        "            # converte o tensor em um número, no caso, o número que o modelo previu\n",
        "            etiqueta_pred = probab.index(max(probab))\n",
        "\n",
        "            etiqueta_certa = etiquetas.numpy()[i]\n",
        "\n",
        "            # compara a previsão com o valor correto\n",
        "            if (etiqueta_certa == etiqueta_pred):\n",
        "\n",
        "                conta_corretas += 1\n",
        "\n",
        "            conta_todas += 1\n",
        "\n",
        "\n",
        "    print(\"Total de imagens testadas =\", conta_todas)\n",
        "\n",
        "    print(\"\\nPrecisão do modelo = {}%\".format(conta_corretas*100/conta_todas))"
      ],
      "metadata": {
        "id": "L-anj1mCn_ok"
      },
      "execution_count": 21,
      "outputs": []
    },
    {
      "cell_type": "markdown",
      "source": [
        "Criando o modelo e testando o device para ver se a GPU suporta CUDA (Compute Unified Device Architecture) que possibilita computação em paralelo."
      ],
      "metadata": {
        "id": "99ssBehKtpj9"
      }
    },
    {
      "cell_type": "code",
      "source": [
        "modelo = Modelo()\n",
        "\n",
        "device = torch.device(\"cuda\" if torch.cuda.is_avaiable() else \"cpu\")"
      ],
      "metadata": {
        "id": "S6sRAqWMtuiH"
      },
      "execution_count": null,
      "outputs": []
    },
    {
      "cell_type": "markdown",
      "source": [
        "## ***Conclusão***\n",
        "\n",
        "Nesse projeto foi apresentado a estrutura necessária para criação de um ambiente de Machine Learning para reconhecimento de algarismos numéricos, desde a importação das bibliotecas, passando pela preparação da base de dados de imagens usando o padrão tensor, implementando uma rede neural baseada no Inception V3, criando o ambiente de treino e finalizando com a validação do modelo.\n"
      ],
      "metadata": {
        "id": "Y2xR2_-0v4R8"
      }
    },
    {
      "cell_type": "markdown",
      "source": [
        "## ***Referências***\n",
        "\n",
        "Rede neural artificial<br>\n",
        "https://pt.wikipedia.org/wiki/Rede_neural_artificial\n",
        "\n",
        "Transformar imagem em um tensor<br>\n",
        "https://cursos.alura.com.br/forum/topico-transformar-imagem-em-um-tensor-179620\n",
        "\n",
        "Primeiros passos com Pytorch<br>\n",
        "https://www.alura.com.br/artigos/primeiros-passos-com-pytorch\n",
        "\n",
        "Add image from Google Drive<br>\n",
        "https://stackoverflow.com/questions/52063556/add-image-to-github-readme-md-from-google-drive\n",
        "\n",
        "StackOverFlow<br>\n",
        "https://stackoverflow.com/questions/61856895/nameerror-name-transforms-is-not-defined-while-using-google-colab\n",
        "\n",
        "Glossário de termos técnicos da área de ML (UFSC) <br> \n",
        "https://lapix.ufsc.br/ensino/visao/visao-computacionaldeep-learning/deep-learningglossario/\n",
        "\n"
      ],
      "metadata": {
        "id": "qjo4qwKl13Ws"
      }
    }
  ]
}