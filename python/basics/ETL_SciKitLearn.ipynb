{
  "nbformat": 4,
  "nbformat_minor": 0,
  "metadata": {
    "colab": {
      "provenance": [],
      "collapsed_sections": []
    },
    "kernelspec": {
      "name": "python3",
      "display_name": "Python 3"
    },
    "language_info": {
      "name": "python"
    }
  },
  "cells": [
    {
      "cell_type": "markdown",
      "source": [
        "# **Fundamentos de ETL (Extract, Transform, Load) com Python**\n"
      ],
      "metadata": {
        "id": "Ol062h0iozbX"
      }
    },
    {
      "cell_type": "code",
      "source": [
        "# Dr. Diego Renan - Pesquisador Machine Learning\n",
        "# Education Tech Lead na DIO\n",
        "# Fundamentos de ETL (Extract, Transform, Load) com Python\n",
        "# Introdução à biblioteca Scikit Learn \n",
        "# Adaptado por Argemiro Leite @aiplbh"
      ],
      "metadata": {
        "id": "rRIA83-FqPFe"
      },
      "execution_count": 19,
      "outputs": []
    },
    {
      "cell_type": "markdown",
      "source": [
        "**Exemplo de aplicação:**\n",
        "\n",
        "Neste exemplo iremos criar uma massa de dados com 200 observações, com apenas uma\n",
        "variável preditora, que será a variável x e a variável target, que será a y . Para isso\n",
        "indicamos os parâmetros n_samples = 200 e n_features = 1 . O parâmetro noise define o\n",
        "quão dispersos os dados estarão um dos outros."
      ],
      "metadata": {
        "id": "-usIiot_ffJ4"
      }
    },
    {
      "cell_type": "code",
      "source": [
        "# Instalando algumas blibliotecas necessárias no Google Colab"
      ],
      "metadata": {
        "id": "umWLmVaMfqbS"
      },
      "execution_count": null,
      "outputs": []
    },
    {
      "cell_type": "code",
      "execution_count": 1,
      "metadata": {
        "colab": {
          "base_uri": "https://localhost:8080/"
        },
        "id": "-qy4TWV7ezbu",
        "outputId": "779bce0b-00ca-4935-dfb2-51f59004a66c"
      },
      "outputs": [
        {
          "output_type": "stream",
          "name": "stdout",
          "text": [
            "Looking in indexes: https://pypi.org/simple, https://us-python.pkg.dev/colab-wheels/public/simple/\n",
            "Requirement already satisfied: matplotlib in /usr/local/lib/python3.7/dist-packages (3.2.2)\n",
            "Requirement already satisfied: numpy>=1.11 in /usr/local/lib/python3.7/dist-packages (from matplotlib) (1.21.6)\n",
            "Requirement already satisfied: pyparsing!=2.0.4,!=2.1.2,!=2.1.6,>=2.0.1 in /usr/local/lib/python3.7/dist-packages (from matplotlib) (3.0.9)\n",
            "Requirement already satisfied: kiwisolver>=1.0.1 in /usr/local/lib/python3.7/dist-packages (from matplotlib) (1.4.4)\n",
            "Requirement already satisfied: cycler>=0.10 in /usr/local/lib/python3.7/dist-packages (from matplotlib) (0.11.0)\n",
            "Requirement already satisfied: python-dateutil>=2.1 in /usr/local/lib/python3.7/dist-packages (from matplotlib) (2.8.2)\n",
            "Requirement already satisfied: typing-extensions in /usr/local/lib/python3.7/dist-packages (from kiwisolver>=1.0.1->matplotlib) (4.1.1)\n",
            "Requirement already satisfied: six>=1.5 in /usr/local/lib/python3.7/dist-packages (from python-dateutil>=2.1->matplotlib) (1.15.0)\n",
            "Looking in indexes: https://pypi.org/simple, https://us-python.pkg.dev/colab-wheels/public/simple/\n",
            "Requirement already satisfied: scikit-learn in /usr/local/lib/python3.7/dist-packages (1.0.2)\n",
            "Requirement already satisfied: threadpoolctl>=2.0.0 in /usr/local/lib/python3.7/dist-packages (from scikit-learn) (3.1.0)\n",
            "Requirement already satisfied: numpy>=1.14.6 in /usr/local/lib/python3.7/dist-packages (from scikit-learn) (1.21.6)\n",
            "Requirement already satisfied: joblib>=0.11 in /usr/local/lib/python3.7/dist-packages (from scikit-learn) (1.2.0)\n",
            "Requirement already satisfied: scipy>=1.1.0 in /usr/local/lib/python3.7/dist-packages (from scikit-learn) (1.7.3)\n"
          ]
        }
      ],
      "source": [
        "!pip install matplotlib\n",
        "!pip install scikit-learn\n"
      ]
    },
    {
      "cell_type": "code",
      "source": [
        "import matplotlib.pyplot as plt\n"
      ],
      "metadata": {
        "id": "WMOsDJfHe5mr"
      },
      "execution_count": 2,
      "outputs": []
    },
    {
      "cell_type": "code",
      "source": [
        "from sklearn.datasets import make_regression"
      ],
      "metadata": {
        "id": "Zb05B5b_e6tA"
      },
      "execution_count": 3,
      "outputs": []
    },
    {
      "cell_type": "code",
      "source": [
        "# gerando uma massa de dados\n",
        "x, y = make_regression (n_samples = 200, n_features =1, noise = 30)"
      ],
      "metadata": {
        "id": "9ZGjbBzfe-H7"
      },
      "execution_count": 4,
      "outputs": []
    },
    {
      "cell_type": "code",
      "source": [
        "# mostrando no gráfico\n",
        "\n",
        "plt.scatter(x,y)\n",
        "plt.show()"
      ],
      "metadata": {
        "colab": {
          "base_uri": "https://localhost:8080/",
          "height": 265
        },
        "id": "h0m0TSQifAdm",
        "outputId": "c90473ea-0a22-495e-ed08-d71ae96d753f"
      },
      "execution_count": 5,
      "outputs": [
        {
          "output_type": "display_data",
          "data": {
            "text/plain": [
              "<Figure size 432x288 with 1 Axes>"
            ],
            "image/png": "[encoded data removed]"
          },
          "metadata": {
            "needs_background": "light"
          }
        }
      ]
    },
    {
      "cell_type": "markdown",
      "source": [
        "Com os dados gerados, já podemos iniciar a criação de nosso modelo de\n",
        "machine learning .\n",
        "Para isso utilizaremos o módulo linear_model , e a função *LinearRegression*"
      ],
      "metadata": {
        "id": "izTcvKThgjJR"
      }
    },
    {
      "cell_type": "code",
      "source": [
        "# Criação do modelo\n",
        "\n",
        "from sklearn.linear_model import LinearRegression\n",
        "\n",
        "modelo = LinearRegression()"
      ],
      "metadata": {
        "id": "n8fderXMgmLR"
      },
      "execution_count": 10,
      "outputs": []
    },
    {
      "cell_type": "markdown",
      "source": [
        "Após esta execução, o objeto modelo que acabamos de criar está pronto para receber os dados que darão origem ao modelo. Como não indicamos nenhum parâmetro específico na função, estamos utilizando suas configurações padrão.\n",
        "\n",
        "Agora precisamos apenas apresentar os dados ao modelo, e para isso temos o\n",
        "método fit (). \n",
        "\n",
        "Na documentação da função podemos conferir todos os métodos que ela possui."
      ],
      "metadata": {
        "id": "EN9Ab32OhZhB"
      }
    },
    {
      "cell_type": "code",
      "source": [
        "# modelo.fit()\n",
        "\n",
        "from sklearn.model_selection import train_test_split\n",
        "\n",
        "x_treino, x_teste, y_treino, y_teste = train_test_split(x, y, test_size=0.3, random_state=1)\n",
        "\n",
        "modelo.fit(x_treino, y_treino)"
      ],
      "metadata": {
        "colab": {
          "base_uri": "https://localhost:8080/"
        },
        "id": "o8WEeqENkl6_",
        "outputId": "acbef08d-7f4f-4b70-f8d1-5464da3e1f0a"
      },
      "execution_count": 15,
      "outputs": [
        {
          "output_type": "execute_result",
          "data": {
            "text/plain": [
              "LinearRegression()"
            ]
          },
          "metadata": {},
          "execution_count": 15
        }
      ]
    },
    {
      "cell_type": "markdown",
      "source": [
        "Após esta etapa, nosso modelo de machine learning está pronto e podemos utilizá lo para\n",
        "prever dados desconhecidos . \n",
        "\n",
        "Simplificando este primeiro entendimento, vamos apenas visualizar a reta de regressão linear \n",
        "que o modelo gera, com os mesmos dados que criaram o modelo. \n",
        "\n",
        "Para isso iremos utilizar o método predict (), indicando que queremos aplicar a previsão nos \n",
        "valores de x . \n",
        "\n",
        "O resultado do método será uma previsão de y para cada valor de x apresentado.\n"
      ],
      "metadata": {
        "id": "fCEb96yZhpfR"
      }
    },
    {
      "cell_type": "code",
      "source": [
        "modelo.predict(x)"
      ],
      "metadata": {
        "colab": {
          "base_uri": "https://localhost:8080/"
        },
        "id": "V3x_JZd8iDN8",
        "outputId": "f61e4397-76c3-4628-9460-63750b606478"
      },
      "execution_count": 16,
      "outputs": [
        {
          "output_type": "execute_result",
          "data": {
            "text/plain": [
              "array([-100.821603  ,   69.28981915,   89.50739994,    2.68842628,\n",
              "        165.70290936, -110.19922943,   44.15171274,  -73.4229849 ,\n",
              "         94.94523572,  146.5462397 ,  -52.49735439, -137.31484555,\n",
              "        -63.24015249,   23.0879861 ,    6.77240021,    6.30584857,\n",
              "         45.10462824,   30.12242469,   48.0403737 ,  -30.2314856 ,\n",
              "         -7.78065739,  138.62202306,   71.84407591,   23.4170792 ,\n",
              "         -4.79251037,  -18.26596766,   23.65290373,  -78.95516991,\n",
              "        -44.34636116,  -13.20955399,   18.08065168,  119.38626261,\n",
              "         52.80355419,  -89.31279546,   69.87393531,   21.0813729 ,\n",
              "        -58.04415569,  -97.81748808,  -44.18591645,   77.47793768,\n",
              "        -71.90898421,   41.96963183,  -16.63248174,   89.51648214,\n",
              "          2.49116816,  -57.52102106,   -3.11670285,   81.17452886,\n",
              "        113.81528686,   27.73330781,  -44.4271323 ,  129.76881574,\n",
              "          6.39235558, -139.74398638,  -85.08214595,  120.64940331,\n",
              "          9.30735884,  173.88229889,   76.32307568, -117.19159855,\n",
              "         89.75264378,  -74.4068996 , -111.54503845,   57.07982615,\n",
              "       -124.74674299,   74.16642883,  -38.00558463,   84.95379097,\n",
              "        -65.7775227 , -101.98579256,  170.66267691,   89.61061493,\n",
              "         61.31342332,    0.29157831,  -43.15012824, -154.09521043,\n",
              "        130.65610588,  -43.35054007, -141.04346058,  -52.20963196,\n",
              "         27.29450994,  157.26930847, -259.96129108,  -29.9848303 ,\n",
              "        -43.97364866,   46.66529539, -179.492975  ,   48.33205682,\n",
              "         91.31968853,   49.72922785,  -51.08000908,   68.90360887,\n",
              "        -68.83149151,  108.29287867,  -67.3439771 ,  133.93347088,\n",
              "        -84.36968288,   45.92625341,  146.06122232,   33.94391831,\n",
              "        -68.77666592,  -39.13989707,  132.76778715,  -23.19012603,\n",
              "        -49.57635493,  -48.36101736,   79.76691634,   31.89251597,\n",
              "       -117.987231  ,  101.4398485 , -116.81533401,   32.17050988,\n",
              "        -57.76895002,  -42.00869911,  -23.37314676, -109.61725251,\n",
              "        -21.48767688,   41.69707147,   40.83498682,   -6.31632735,\n",
              "        -14.61481014,  154.71722276,  -32.0075851 ,  -38.21496819,\n",
              "        -56.09292735,  197.05089034,   92.20742722,  103.85671413,\n",
              "        -98.85387087,  -26.79447737,   16.59989085, -115.41874629,\n",
              "       -126.03576976,   82.20113799,  141.89607464,  195.21184999,\n",
              "         15.75729839,  254.38181341,   34.89869562,    2.6010011 ,\n",
              "        -39.55228417,  -92.211901  ,  167.76983229,  -38.87085449,\n",
              "        -91.89574653,  -13.74781196,    9.2718772 ,   51.07383109,\n",
              "         24.81245645,  -23.00561425,  -35.04458601,  -30.29098782,\n",
              "        152.38088616,  -42.35606005, -190.32868214,   59.97716125,\n",
              "        -71.23186891,  105.01295713,  -80.00831612,  148.88982272,\n",
              "         10.75812769,  -92.37761793,   64.44951827,  -87.09688177,\n",
              "       -102.57181692,  -99.99568441,  112.76935401,   16.87314036,\n",
              "         -3.73486055,   28.26015996, -181.54563581,   72.59138486,\n",
              "        104.94141763,   47.8491953 ,  -43.12373828,   -4.95672424,\n",
              "         32.98389607,  253.41864796,  -17.77241554,    1.78977055,\n",
              "          1.98024954, -108.49536599,  -40.17648337,  -24.28493071,\n",
              "        -80.14059318,   12.09853013,  -31.9448901 ,  -63.67367122,\n",
              "        -19.76202616,  -29.51356563,   49.76156851,  -33.00460708,\n",
              "         -6.28633975, -131.58666654,   -9.17050674,   -3.62085371,\n",
              "         75.21362103,  -65.51452795,  -69.29083517,  104.94153018])"
            ]
          },
          "metadata": {},
          "execution_count": 16
        }
      ]
    },
    {
      "cell_type": "markdown",
      "source": [
        "A função plot do pacote pyplot gera uma reta com os dados apresentados. Como já temos os dados de x e y , basta indicá-los na função. Assim, primeiramente montamos novamente o gráfico de x e y original com a função scatter () e \n",
        "somamos a ele a reta de linearização."
      ],
      "metadata": {
        "id": "9N9Slmbun9f_"
      }
    },
    {
      "cell_type": "code",
      "source": [
        "plt.scatter(x,y)\n",
        "plt.plot(x,modelo.predict(x), color = 'red', linewidth=3)\n",
        "plt.show()"
      ],
      "metadata": {
        "colab": {
          "base_uri": "https://localhost:8080/",
          "height": 265
        },
        "id": "4JOLVSG8n82_",
        "outputId": "1373aa59-f0ef-4744-c59d-aa5db3260588"
      },
      "execution_count": 17,
      "outputs": [
        {
          "output_type": "display_data",
          "data": {
            "text/plain": [
              "<Figure size 432x288 with 1 Axes>"
            ],
            "image/png": "[encoded data removed]"
          },
          "metadata": {
            "needs_background": "light"
          }
        }
      ]
    }
  ]
}